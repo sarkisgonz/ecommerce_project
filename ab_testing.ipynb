{
 "cells": [
  {
   "cell_type": "code",
   "execution_count": 1,
   "id": "4ad454c1-93a4-4e37-bac7-832e57ec997b",
   "metadata": {},
   "outputs": [],
   "source": [
    "import pandas as pd\n",
    "import numpy as np\n",
    "import random\n",
    "import matplotlib.pyplot as plt\n",
    "%matplotlib inline"
   ]
  },
  {
   "cell_type": "markdown",
   "id": "80819678-8d8b-4efa-8944-2fca7983da85",
   "metadata": {},
   "source": [
    "Reading the dataset from the ab_testing.csv file"
   ]
  },
  {
   "cell_type": "code",
   "execution_count": 2,
   "id": "bd540298-940b-4502-9471-f0c41d49f31a",
   "metadata": {},
   "outputs": [],
   "source": [
    "df1 = pd.read_csv('ab_testing.csv')"
   ]
  },
  {
   "cell_type": "markdown",
   "id": "5b008333-e676-46c8-a994-9a26759c5b1a",
   "metadata": {},
   "source": [
    "## Goal 1: Determine if the new website version leads to more conversions than the old version"
   ]
  },
  {
   "cell_type": "markdown",
   "id": "d4416914-c020-46ed-b5e4-682ac24a1e64",
   "metadata": {},
   "source": [
    "### Objective 1.1: Determine the difference in conversions between the treatment and control groups"
   ]
  },
  {
   "cell_type": "markdown",
   "id": "463a32ea-3ce8-4ea2-841d-e11c5ebbb1d5",
   "metadata": {},
   "source": [
    "#### Deliverable 1.1.1 The probability that a user converts regardless of the page they receive"
   ]
  },
  {
   "cell_type": "markdown",
   "id": "1423107b-a202-4355-9cfb-c4848096de27",
   "metadata": {},
   "source": [
    "Printing the top few rows"
   ]
  },
  {
   "cell_type": "code",
   "execution_count": 11,
   "id": "6f970b98-cc73-4abf-a689-c5bbae91da86",
   "metadata": {},
   "outputs": [
    {
     "data": {
      "text/html": [
       "<div>\n",
       "<style scoped>\n",
       "    .dataframe tbody tr th:only-of-type {\n",
       "        vertical-align: middle;\n",
       "    }\n",
       "\n",
       "    .dataframe tbody tr th {\n",
       "        vertical-align: top;\n",
       "    }\n",
       "\n",
       "    .dataframe thead th {\n",
       "        text-align: right;\n",
       "    }\n",
       "</style>\n",
       "<table border=\"1\" class=\"dataframe\">\n",
       "  <thead>\n",
       "    <tr style=\"text-align: right;\">\n",
       "      <th></th>\n",
       "      <th>User ID</th>\n",
       "      <th>Group</th>\n",
       "      <th>Page Views</th>\n",
       "      <th>Time Spent</th>\n",
       "      <th>Conversion</th>\n",
       "      <th>Device</th>\n",
       "      <th>Location</th>\n",
       "    </tr>\n",
       "  </thead>\n",
       "  <tbody>\n",
       "    <tr>\n",
       "      <th>0</th>\n",
       "      <td>14292</td>\n",
       "      <td>B</td>\n",
       "      <td>3</td>\n",
       "      <td>424</td>\n",
       "      <td>No</td>\n",
       "      <td>Mobile</td>\n",
       "      <td>Northern Ireland</td>\n",
       "    </tr>\n",
       "    <tr>\n",
       "      <th>1</th>\n",
       "      <td>11682</td>\n",
       "      <td>A</td>\n",
       "      <td>9</td>\n",
       "      <td>342</td>\n",
       "      <td>No</td>\n",
       "      <td>Mobile</td>\n",
       "      <td>Scotland</td>\n",
       "    </tr>\n",
       "    <tr>\n",
       "      <th>2</th>\n",
       "      <td>19825</td>\n",
       "      <td>A</td>\n",
       "      <td>2</td>\n",
       "      <td>396</td>\n",
       "      <td>No</td>\n",
       "      <td>Desktop</td>\n",
       "      <td>Northern Ireland</td>\n",
       "    </tr>\n",
       "    <tr>\n",
       "      <th>3</th>\n",
       "      <td>16080</td>\n",
       "      <td>B</td>\n",
       "      <td>4</td>\n",
       "      <td>318</td>\n",
       "      <td>No</td>\n",
       "      <td>Desktop</td>\n",
       "      <td>Wales</td>\n",
       "    </tr>\n",
       "    <tr>\n",
       "      <th>4</th>\n",
       "      <td>18851</td>\n",
       "      <td>A</td>\n",
       "      <td>1</td>\n",
       "      <td>338</td>\n",
       "      <td>Yes</td>\n",
       "      <td>Desktop</td>\n",
       "      <td>Scotland</td>\n",
       "    </tr>\n",
       "  </tbody>\n",
       "</table>\n",
       "</div>"
      ],
      "text/plain": [
       "   User ID Group  Page Views  Time Spent Conversion   Device          Location\n",
       "0    14292     B           3         424         No   Mobile  Northern Ireland\n",
       "1    11682     A           9         342         No   Mobile          Scotland\n",
       "2    19825     A           2         396         No  Desktop  Northern Ireland\n",
       "3    16080     B           4         318         No  Desktop             Wales\n",
       "4    18851     A           1         338        Yes  Desktop          Scotland"
      ]
     },
     "execution_count": 11,
     "metadata": {},
     "output_type": "execute_result"
    }
   ],
   "source": [
    "df1.head()"
   ]
  },
  {
   "cell_type": "markdown",
   "id": "118203d7-224e-443a-852c-34c836a06040",
   "metadata": {},
   "source": [
    "Renaming columns for easier manipulation"
   ]
  },
  {
   "cell_type": "code",
   "execution_count": 14,
   "id": "52b50f20-3111-4d9c-b075-26fd918829d6",
   "metadata": {},
   "outputs": [],
   "source": [
    "new_cols = ['userid','group','page_views','timespent','converted','device','location']\n",
    "df1.columns = new_cols"
   ]
  },
  {
   "cell_type": "code",
   "execution_count": 15,
   "id": "36ca4c49-6b1c-4d2c-be31-f535aaaf5152",
   "metadata": {},
   "outputs": [
    {
     "data": {
      "text/html": [
       "<div>\n",
       "<style scoped>\n",
       "    .dataframe tbody tr th:only-of-type {\n",
       "        vertical-align: middle;\n",
       "    }\n",
       "\n",
       "    .dataframe tbody tr th {\n",
       "        vertical-align: top;\n",
       "    }\n",
       "\n",
       "    .dataframe thead th {\n",
       "        text-align: right;\n",
       "    }\n",
       "</style>\n",
       "<table border=\"1\" class=\"dataframe\">\n",
       "  <thead>\n",
       "    <tr style=\"text-align: right;\">\n",
       "      <th></th>\n",
       "      <th>userid</th>\n",
       "      <th>group</th>\n",
       "      <th>page_views</th>\n",
       "      <th>timespent</th>\n",
       "      <th>converted</th>\n",
       "      <th>device</th>\n",
       "      <th>location</th>\n",
       "    </tr>\n",
       "  </thead>\n",
       "  <tbody>\n",
       "    <tr>\n",
       "      <th>0</th>\n",
       "      <td>14292</td>\n",
       "      <td>B</td>\n",
       "      <td>3</td>\n",
       "      <td>424</td>\n",
       "      <td>No</td>\n",
       "      <td>Mobile</td>\n",
       "      <td>Northern Ireland</td>\n",
       "    </tr>\n",
       "    <tr>\n",
       "      <th>1</th>\n",
       "      <td>11682</td>\n",
       "      <td>A</td>\n",
       "      <td>9</td>\n",
       "      <td>342</td>\n",
       "      <td>No</td>\n",
       "      <td>Mobile</td>\n",
       "      <td>Scotland</td>\n",
       "    </tr>\n",
       "    <tr>\n",
       "      <th>2</th>\n",
       "      <td>19825</td>\n",
       "      <td>A</td>\n",
       "      <td>2</td>\n",
       "      <td>396</td>\n",
       "      <td>No</td>\n",
       "      <td>Desktop</td>\n",
       "      <td>Northern Ireland</td>\n",
       "    </tr>\n",
       "    <tr>\n",
       "      <th>3</th>\n",
       "      <td>16080</td>\n",
       "      <td>B</td>\n",
       "      <td>4</td>\n",
       "      <td>318</td>\n",
       "      <td>No</td>\n",
       "      <td>Desktop</td>\n",
       "      <td>Wales</td>\n",
       "    </tr>\n",
       "    <tr>\n",
       "      <th>4</th>\n",
       "      <td>18851</td>\n",
       "      <td>A</td>\n",
       "      <td>1</td>\n",
       "      <td>338</td>\n",
       "      <td>Yes</td>\n",
       "      <td>Desktop</td>\n",
       "      <td>Scotland</td>\n",
       "    </tr>\n",
       "  </tbody>\n",
       "</table>\n",
       "</div>"
      ],
      "text/plain": [
       "   userid group  page_views  timespent converted   device          location\n",
       "0   14292     B           3        424        No   Mobile  Northern Ireland\n",
       "1   11682     A           9        342        No   Mobile          Scotland\n",
       "2   19825     A           2        396        No  Desktop  Northern Ireland\n",
       "3   16080     B           4        318        No  Desktop             Wales\n",
       "4   18851     A           1        338       Yes  Desktop          Scotland"
      ]
     },
     "execution_count": 15,
     "metadata": {},
     "output_type": "execute_result"
    }
   ],
   "source": [
    "df1.head()"
   ]
  },
  {
   "cell_type": "markdown",
   "id": "e068c980-de12-47b2-8997-e0e084f9a938",
   "metadata": {},
   "source": [
    "Changing converted to boolean format so it can be analyzed easily"
   ]
  },
  {
   "cell_type": "code",
   "execution_count": 16,
   "id": "4567f460-96d3-4cfc-aaa5-e1be58693b17",
   "metadata": {},
   "outputs": [
    {
     "name": "stderr",
     "output_type": "stream",
     "text": [
      "/var/folders/_l/vgkb2xzx3_l4r29mfzvw6qth0000gn/T/ipykernel_62282/2419052932.py:1: FutureWarning: Downcasting behavior in `replace` is deprecated and will be removed in a future version. To retain the old behavior, explicitly call `result.infer_objects(copy=False)`. To opt-in to the future behavior, set `pd.set_option('future.no_silent_downcasting', True)`\n",
      "  df1.converted = df1.converted.replace({'No':0,'Yes':1})\n"
     ]
    }
   ],
   "source": [
    "df1.converted = df1.converted.replace({'No':0,'Yes':1})"
   ]
  },
  {
   "cell_type": "code",
   "execution_count": 18,
   "id": "996d6538-3741-49f3-b3e1-3f9936462ff3",
   "metadata": {},
   "outputs": [
    {
     "data": {
      "text/plain": [
       "2"
      ]
     },
     "execution_count": 18,
     "metadata": {},
     "output_type": "execute_result"
    }
   ],
   "source": [
    "df1.converted.nunique()"
   ]
  },
  {
   "cell_type": "markdown",
   "id": "2fde4aa9-7df5-400a-acfa-fb9d3ca169d9",
   "metadata": {},
   "source": [
    "Finding the number of rows in the dataset"
   ]
  },
  {
   "cell_type": "code",
   "execution_count": 4,
   "id": "b62f1dd5-7d3c-416b-bc38-3d422e750ef3",
   "metadata": {},
   "outputs": [
    {
     "data": {
      "text/plain": [
       "(5000, 7)"
      ]
     },
     "execution_count": 4,
     "metadata": {},
     "output_type": "execute_result"
    }
   ],
   "source": [
    "df1.shape"
   ]
  },
  {
   "cell_type": "markdown",
   "id": "415f9b8e-9cfe-45bf-a359-7a53b8e7ff76",
   "metadata": {},
   "source": [
    "Finding the number of unique users in the dataset"
   ]
  },
  {
   "cell_type": "code",
   "execution_count": 19,
   "id": "d2ce1aac-a26e-4a3e-b921-3d69fb61e56b",
   "metadata": {},
   "outputs": [
    {
     "data": {
      "text/plain": [
       "5000"
      ]
     },
     "execution_count": 19,
     "metadata": {},
     "output_type": "execute_result"
    }
   ],
   "source": [
    "df1['userid'].nunique()"
   ]
  },
  {
   "cell_type": "markdown",
   "id": "5f912568-e7f3-4e7a-acd3-02a35e35780f",
   "metadata": {},
   "source": [
    "Proportion of users converted (The probability that a user converts regardless of the page they receive). This is the overall converted success rate in the population"
   ]
  },
  {
   "cell_type": "code",
   "execution_count": 20,
   "id": "814811b7-3009-40b6-9754-8db71cadb5f8",
   "metadata": {},
   "outputs": [
    {
     "data": {
      "text/plain": [
       "0.097"
      ]
     },
     "execution_count": 20,
     "metadata": {},
     "output_type": "execute_result"
    }
   ],
   "source": [
    "p_population = df1['converted'].mean()"
   ]
  },
  {
   "attachments": {},
   "cell_type": "markdown",
   "id": "c3540813-2110-411d-a9b0-c56d2a6e36d8",
   "metadata": {},
   "source": [
    "#### Deliverable 1.1.2: The probability that a user converts given that they were in the control group, and the probability given that they are in the treatment group"
   ]
  },
  {
   "cell_type": "markdown",
   "id": "72637055-7a1a-45c3-81e7-ac455c509708",
   "metadata": {},
   "source": [
    "The probability that an individual converted given that they were in the treatment group"
   ]
  },
  {
   "cell_type": "code",
   "execution_count": 25,
   "id": "50653d40-f8a9-4d22-95c1-0fd146d55972",
   "metadata": {},
   "outputs": [
    {
     "name": "stdout",
     "output_type": "stream",
     "text": [
      "0.05398967844382691\n"
     ]
    }
   ],
   "source": [
    "c_rate = df1[df1['group'] == 'A'].converted.mean()\n",
    "print(c_rate)"
   ]
  },
  {
   "cell_type": "markdown",
   "id": "e32a4a4b-33c7-42cd-9467-fd1fcf52f637",
   "metadata": {},
   "source": [
    "The probability that an individual converted given that they are in the tratment group"
   ]
  },
  {
   "cell_type": "code",
   "execution_count": 26,
   "id": "4e99ebb5-c8c7-47c2-846e-64488331b830",
   "metadata": {},
   "outputs": [
    {
     "name": "stdout",
     "output_type": "stream",
     "text": [
      "0.14066908504635228\n"
     ]
    }
   ],
   "source": [
    "t_rate = df1[df1['group'] == 'B'].converted.mean()\n",
    "print(t_rate)"
   ]
  },
  {
   "cell_type": "markdown",
   "id": "10210495-b11a-4eaf-a94a-70f6abd376a2",
   "metadata": {},
   "source": [
    "#### Deliverable 1.1.3: The difference in the probability of onversion between the treatment and control groups"
   ]
  },
  {
   "cell_type": "code",
   "execution_count": 28,
   "id": "69863f5d-bc57-4080-addd-8778672b90b4",
   "metadata": {},
   "outputs": [
    {
     "data": {
      "text/plain": [
       "0.08667940660252538"
      ]
     },
     "execution_count": 28,
     "metadata": {},
     "output_type": "execute_result"
    }
   ],
   "source": [
    "obs_diff = t_rate - c_rate\n",
    "obs_diff"
   ]
  },
  {
   "cell_type": "markdown",
   "id": "c3ac5974-eac1-44c2-925f-187ea972be2b",
   "metadata": {},
   "source": [
    "### Objective 1.2: Determine if the difference in conversions is statistically significant"
   ]
  },
  {
   "cell_type": "code",
   "execution_count": null,
   "id": "37da0c2e-77b3-4176-bc8a-ad5a4c79a253",
   "metadata": {},
   "outputs": [],
   "source": []
  }
 ],
 "metadata": {
  "kernelspec": {
   "display_name": "Python 3 (ipykernel)",
   "language": "python",
   "name": "python3"
  },
  "language_info": {
   "codemirror_mode": {
    "name": "ipython",
    "version": 3
   },
   "file_extension": ".py",
   "mimetype": "text/x-python",
   "name": "python",
   "nbconvert_exporter": "python",
   "pygments_lexer": "ipython3",
   "version": "3.11.5"
  }
 },
 "nbformat": 4,
 "nbformat_minor": 5
}
