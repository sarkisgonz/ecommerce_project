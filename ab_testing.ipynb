{
 "cells": [
  {
   "cell_type": "code",
   "execution_count": 37,
   "id": "4ad454c1-93a4-4e37-bac7-832e57ec997b",
   "metadata": {},
   "outputs": [],
   "source": [
    "import pandas as pd\n",
    "import numpy as np\n",
    "import random\n",
    "%matplotlib inline\n",
    "import matplotlib.pyplot as plt"
   ]
  },
  {
   "cell_type": "markdown",
   "id": "80819678-8d8b-4efa-8944-2fca7983da85",
   "metadata": {},
   "source": [
    "Reading the dataset from the ab_testing.csv file"
   ]
  },
  {
   "cell_type": "code",
   "execution_count": 38,
   "id": "bd540298-940b-4502-9471-f0c41d49f31a",
   "metadata": {},
   "outputs": [],
   "source": [
    "df1 = pd.read_csv('ab_testing.csv')"
   ]
  },
  {
   "cell_type": "markdown",
   "id": "5b008333-e676-46c8-a994-9a26759c5b1a",
   "metadata": {},
   "source": [
    "## Goal 1: Determine if the new website version leads to more conversions than the old version"
   ]
  },
  {
   "cell_type": "markdown",
   "id": "d4416914-c020-46ed-b5e4-682ac24a1e64",
   "metadata": {},
   "source": [
    "### Objective 1.1: Determine the difference in conversions between the treatment and control groups"
   ]
  },
  {
   "cell_type": "markdown",
   "id": "463a32ea-3ce8-4ea2-841d-e11c5ebbb1d5",
   "metadata": {},
   "source": [
    "#### Deliverable 1.1.1 The probability that a user converts regardless of the page they receive"
   ]
  },
  {
   "cell_type": "markdown",
   "id": "1423107b-a202-4355-9cfb-c4848096de27",
   "metadata": {},
   "source": [
    "Printing the top few rows"
   ]
  },
  {
   "cell_type": "code",
   "execution_count": 39,
   "id": "6f970b98-cc73-4abf-a689-c5bbae91da86",
   "metadata": {},
   "outputs": [
    {
     "data": {
      "text/html": [
       "<div>\n",
       "<style scoped>\n",
       "    .dataframe tbody tr th:only-of-type {\n",
       "        vertical-align: middle;\n",
       "    }\n",
       "\n",
       "    .dataframe tbody tr th {\n",
       "        vertical-align: top;\n",
       "    }\n",
       "\n",
       "    .dataframe thead th {\n",
       "        text-align: right;\n",
       "    }\n",
       "</style>\n",
       "<table border=\"1\" class=\"dataframe\">\n",
       "  <thead>\n",
       "    <tr style=\"text-align: right;\">\n",
       "      <th></th>\n",
       "      <th>User ID</th>\n",
       "      <th>Group</th>\n",
       "      <th>Page Views</th>\n",
       "      <th>Time Spent</th>\n",
       "      <th>Conversion</th>\n",
       "      <th>Device</th>\n",
       "      <th>Location</th>\n",
       "    </tr>\n",
       "  </thead>\n",
       "  <tbody>\n",
       "    <tr>\n",
       "      <th>0</th>\n",
       "      <td>14292</td>\n",
       "      <td>B</td>\n",
       "      <td>3</td>\n",
       "      <td>424</td>\n",
       "      <td>No</td>\n",
       "      <td>Mobile</td>\n",
       "      <td>Northern Ireland</td>\n",
       "    </tr>\n",
       "    <tr>\n",
       "      <th>1</th>\n",
       "      <td>11682</td>\n",
       "      <td>A</td>\n",
       "      <td>9</td>\n",
       "      <td>342</td>\n",
       "      <td>No</td>\n",
       "      <td>Mobile</td>\n",
       "      <td>Scotland</td>\n",
       "    </tr>\n",
       "    <tr>\n",
       "      <th>2</th>\n",
       "      <td>19825</td>\n",
       "      <td>A</td>\n",
       "      <td>2</td>\n",
       "      <td>396</td>\n",
       "      <td>No</td>\n",
       "      <td>Desktop</td>\n",
       "      <td>Northern Ireland</td>\n",
       "    </tr>\n",
       "    <tr>\n",
       "      <th>3</th>\n",
       "      <td>16080</td>\n",
       "      <td>B</td>\n",
       "      <td>4</td>\n",
       "      <td>318</td>\n",
       "      <td>No</td>\n",
       "      <td>Desktop</td>\n",
       "      <td>Wales</td>\n",
       "    </tr>\n",
       "    <tr>\n",
       "      <th>4</th>\n",
       "      <td>18851</td>\n",
       "      <td>A</td>\n",
       "      <td>1</td>\n",
       "      <td>338</td>\n",
       "      <td>Yes</td>\n",
       "      <td>Desktop</td>\n",
       "      <td>Scotland</td>\n",
       "    </tr>\n",
       "  </tbody>\n",
       "</table>\n",
       "</div>"
      ],
      "text/plain": [
       "   User ID Group  Page Views  Time Spent Conversion   Device          Location\n",
       "0    14292     B           3         424         No   Mobile  Northern Ireland\n",
       "1    11682     A           9         342         No   Mobile          Scotland\n",
       "2    19825     A           2         396         No  Desktop  Northern Ireland\n",
       "3    16080     B           4         318         No  Desktop             Wales\n",
       "4    18851     A           1         338        Yes  Desktop          Scotland"
      ]
     },
     "execution_count": 39,
     "metadata": {},
     "output_type": "execute_result"
    }
   ],
   "source": [
    "df1.head()"
   ]
  },
  {
   "cell_type": "markdown",
   "id": "118203d7-224e-443a-852c-34c836a06040",
   "metadata": {},
   "source": [
    "Renaming columns for easier manipulation"
   ]
  },
  {
   "cell_type": "code",
   "execution_count": 40,
   "id": "52b50f20-3111-4d9c-b075-26fd918829d6",
   "metadata": {},
   "outputs": [],
   "source": [
    "new_cols = ['userid','group','page_views','timespent','converted','device','location']\n",
    "df1.columns = new_cols"
   ]
  },
  {
   "cell_type": "code",
   "execution_count": 41,
   "id": "36ca4c49-6b1c-4d2c-be31-f535aaaf5152",
   "metadata": {},
   "outputs": [
    {
     "data": {
      "text/html": [
       "<div>\n",
       "<style scoped>\n",
       "    .dataframe tbody tr th:only-of-type {\n",
       "        vertical-align: middle;\n",
       "    }\n",
       "\n",
       "    .dataframe tbody tr th {\n",
       "        vertical-align: top;\n",
       "    }\n",
       "\n",
       "    .dataframe thead th {\n",
       "        text-align: right;\n",
       "    }\n",
       "</style>\n",
       "<table border=\"1\" class=\"dataframe\">\n",
       "  <thead>\n",
       "    <tr style=\"text-align: right;\">\n",
       "      <th></th>\n",
       "      <th>userid</th>\n",
       "      <th>group</th>\n",
       "      <th>page_views</th>\n",
       "      <th>timespent</th>\n",
       "      <th>converted</th>\n",
       "      <th>device</th>\n",
       "      <th>location</th>\n",
       "    </tr>\n",
       "  </thead>\n",
       "  <tbody>\n",
       "    <tr>\n",
       "      <th>0</th>\n",
       "      <td>14292</td>\n",
       "      <td>B</td>\n",
       "      <td>3</td>\n",
       "      <td>424</td>\n",
       "      <td>No</td>\n",
       "      <td>Mobile</td>\n",
       "      <td>Northern Ireland</td>\n",
       "    </tr>\n",
       "    <tr>\n",
       "      <th>1</th>\n",
       "      <td>11682</td>\n",
       "      <td>A</td>\n",
       "      <td>9</td>\n",
       "      <td>342</td>\n",
       "      <td>No</td>\n",
       "      <td>Mobile</td>\n",
       "      <td>Scotland</td>\n",
       "    </tr>\n",
       "    <tr>\n",
       "      <th>2</th>\n",
       "      <td>19825</td>\n",
       "      <td>A</td>\n",
       "      <td>2</td>\n",
       "      <td>396</td>\n",
       "      <td>No</td>\n",
       "      <td>Desktop</td>\n",
       "      <td>Northern Ireland</td>\n",
       "    </tr>\n",
       "    <tr>\n",
       "      <th>3</th>\n",
       "      <td>16080</td>\n",
       "      <td>B</td>\n",
       "      <td>4</td>\n",
       "      <td>318</td>\n",
       "      <td>No</td>\n",
       "      <td>Desktop</td>\n",
       "      <td>Wales</td>\n",
       "    </tr>\n",
       "    <tr>\n",
       "      <th>4</th>\n",
       "      <td>18851</td>\n",
       "      <td>A</td>\n",
       "      <td>1</td>\n",
       "      <td>338</td>\n",
       "      <td>Yes</td>\n",
       "      <td>Desktop</td>\n",
       "      <td>Scotland</td>\n",
       "    </tr>\n",
       "  </tbody>\n",
       "</table>\n",
       "</div>"
      ],
      "text/plain": [
       "   userid group  page_views  timespent converted   device          location\n",
       "0   14292     B           3        424        No   Mobile  Northern Ireland\n",
       "1   11682     A           9        342        No   Mobile          Scotland\n",
       "2   19825     A           2        396        No  Desktop  Northern Ireland\n",
       "3   16080     B           4        318        No  Desktop             Wales\n",
       "4   18851     A           1        338       Yes  Desktop          Scotland"
      ]
     },
     "execution_count": 41,
     "metadata": {},
     "output_type": "execute_result"
    }
   ],
   "source": [
    "df1.head()"
   ]
  },
  {
   "cell_type": "markdown",
   "id": "e068c980-de12-47b2-8997-e0e084f9a938",
   "metadata": {},
   "source": [
    "Changing converted to boolean format so it can be analyzed easily"
   ]
  },
  {
   "cell_type": "code",
   "execution_count": 42,
   "id": "4567f460-96d3-4cfc-aaa5-e1be58693b17",
   "metadata": {},
   "outputs": [
    {
     "name": "stderr",
     "output_type": "stream",
     "text": [
      "/var/folders/_l/vgkb2xzx3_l4r29mfzvw6qth0000gn/T/ipykernel_6603/2419052932.py:1: FutureWarning: Downcasting behavior in `replace` is deprecated and will be removed in a future version. To retain the old behavior, explicitly call `result.infer_objects(copy=False)`. To opt-in to the future behavior, set `pd.set_option('future.no_silent_downcasting', True)`\n",
      "  df1.converted = df1.converted.replace({'No':0,'Yes':1})\n"
     ]
    }
   ],
   "source": [
    "df1.converted = df1.converted.replace({'No':0,'Yes':1})"
   ]
  },
  {
   "cell_type": "code",
   "execution_count": 43,
   "id": "996d6538-3741-49f3-b3e1-3f9936462ff3",
   "metadata": {},
   "outputs": [
    {
     "data": {
      "text/plain": [
       "2"
      ]
     },
     "execution_count": 43,
     "metadata": {},
     "output_type": "execute_result"
    }
   ],
   "source": [
    "df1.converted.nunique()"
   ]
  },
  {
   "cell_type": "markdown",
   "id": "2fde4aa9-7df5-400a-acfa-fb9d3ca169d9",
   "metadata": {},
   "source": [
    "Finding the number of rows in the dataset"
   ]
  },
  {
   "cell_type": "code",
   "execution_count": 44,
   "id": "b62f1dd5-7d3c-416b-bc38-3d422e750ef3",
   "metadata": {},
   "outputs": [
    {
     "data": {
      "text/plain": [
       "(5000, 7)"
      ]
     },
     "execution_count": 44,
     "metadata": {},
     "output_type": "execute_result"
    }
   ],
   "source": [
    "df1.shape"
   ]
  },
  {
   "cell_type": "markdown",
   "id": "415f9b8e-9cfe-45bf-a359-7a53b8e7ff76",
   "metadata": {},
   "source": [
    "Finding the number of unique users in the dataset"
   ]
  },
  {
   "cell_type": "code",
   "execution_count": 45,
   "id": "d2ce1aac-a26e-4a3e-b921-3d69fb61e56b",
   "metadata": {},
   "outputs": [
    {
     "data": {
      "text/plain": [
       "5000"
      ]
     },
     "execution_count": 45,
     "metadata": {},
     "output_type": "execute_result"
    }
   ],
   "source": [
    "df1['userid'].nunique()"
   ]
  },
  {
   "cell_type": "markdown",
   "id": "5f912568-e7f3-4e7a-acd3-02a35e35780f",
   "metadata": {},
   "source": [
    "Proportion of users converted (The probability that a user converts regardless of the page they receive). This is the overall converted success rate in the population"
   ]
  },
  {
   "cell_type": "code",
   "execution_count": 70,
   "id": "814811b7-3009-40b6-9754-8db71cadb5f8",
   "metadata": {},
   "outputs": [
    {
     "data": {
      "text/plain": [
       "np.float64(0.097)"
      ]
     },
     "execution_count": 70,
     "metadata": {},
     "output_type": "execute_result"
    }
   ],
   "source": [
    "p_population = df1['converted'].mean()\n",
    "p_population"
   ]
  },
  {
   "attachments": {},
   "cell_type": "markdown",
   "id": "c3540813-2110-411d-a9b0-c56d2a6e36d8",
   "metadata": {},
   "source": [
    "#### Deliverable 1.1.2: The probability that a user converts given that they were in the control group, and the probability given that they are in the treatment group"
   ]
  },
  {
   "cell_type": "markdown",
   "id": "72637055-7a1a-45c3-81e7-ac455c509708",
   "metadata": {},
   "source": [
    "The probability that an individual converted given that they were in the treatment group"
   ]
  },
  {
   "cell_type": "code",
   "execution_count": 47,
   "id": "50653d40-f8a9-4d22-95c1-0fd146d55972",
   "metadata": {},
   "outputs": [
    {
     "name": "stdout",
     "output_type": "stream",
     "text": [
      "0.05398967844382691\n"
     ]
    }
   ],
   "source": [
    "c_rate = df1[df1['group'] == 'A'].converted.mean()\n",
    "print(c_rate)"
   ]
  },
  {
   "cell_type": "markdown",
   "id": "e32a4a4b-33c7-42cd-9467-fd1fcf52f637",
   "metadata": {},
   "source": [
    "The probability that an individual converted given that they are in the tratment group"
   ]
  },
  {
   "cell_type": "code",
   "execution_count": 48,
   "id": "4e99ebb5-c8c7-47c2-846e-64488331b830",
   "metadata": {},
   "outputs": [
    {
     "name": "stdout",
     "output_type": "stream",
     "text": [
      "0.14066908504635228\n"
     ]
    }
   ],
   "source": [
    "t_rate = df1[df1['group'] == 'B'].converted.mean()\n",
    "print(t_rate)"
   ]
  },
  {
   "cell_type": "code",
   "execution_count": 74,
   "id": "6e542993-8d13-40cd-bea7-ad2a2d4d1236",
   "metadata": {},
   "outputs": [
    {
     "data": {
      "image/png": "[encoded data removed]",
      "text/plain": [
       "<Figure size 640x480 with 1 Axes>"
      ]
     },
     "metadata": {},
     "output_type": "display_data"
    }
   ],
   "source": [
    "plt.bar([\"Control Conv. Rate\",\"Treatment Conv. Rate\"],[c_rate,t_rate])\n",
    "plt.title(\"Conversion Rate for Control and Treatment Groups\")\n",
    "plt.show()"
   ]
  },
  {
   "cell_type": "markdown",
   "id": "10210495-b11a-4eaf-a94a-70f6abd376a2",
   "metadata": {},
   "source": [
    "#### Deliverable 1.1.3: The difference in the probability of conversion between the treatment and control groups"
   ]
  },
  {
   "cell_type": "code",
   "execution_count": 49,
   "id": "69863f5d-bc57-4080-addd-8778672b90b4",
   "metadata": {},
   "outputs": [
    {
     "data": {
      "text/plain": [
       "np.float64(0.08667940660252538)"
      ]
     },
     "execution_count": 49,
     "metadata": {},
     "output_type": "execute_result"
    }
   ],
   "source": [
    "obs_diff = t_rate - c_rate\n",
    "obs_diff"
   ]
  },
  {
   "cell_type": "markdown",
   "id": "c3ac5974-eac1-44c2-925f-187ea972be2b",
   "metadata": {},
   "source": [
    "### Objective 1.2: Determine if the difference in conversions is statistically significant"
   ]
  },
  {
   "cell_type": "markdown",
   "id": "ac9fe427-c8d7-4214-bb33-6c9414059fe7",
   "metadata": {},
   "source": [
    "#### Deliverable 1.2.1: A null and alternative hypothesis for the A/B Test"
   ]
  },
  {
   "cell_type": "markdown",
   "id": "9322f2ea-e78b-406a-b140-b170313826c5",
   "metadata": {},
   "source": [
    "The null hypothesis  $H_0$\n",
    "  is that the converted rate for the old page $Pold$ is greater or equal to the converted rate for the new page $Pnew$"
   ]
  },
  {
   "cell_type": "markdown",
   "id": "24085cb7-612b-4a8c-9236-8735ea1b0c74",
   "metadata": {},
   "source": [
    "  $H_0:Pold>=Pnew$"
   ]
  },
  {
   "cell_type": "markdown",
   "id": "ad08acfa-2769-4df8-b2a1-2bdb6bfb9904",
   "metadata": {},
   "source": [
    "The alternative hypothesis $H_1$ is that the converted rate for the new page $Pnew$, is greater than the converted rate for the old page $Pnew$"
   ]
  },
  {
   "cell_type": "markdown",
   "id": "57ba22e5-4740-4e58-b891-fbc1593b4875",
   "metadata": {},
   "source": [
    "$H_1:Pnew>Pold$"
   ]
  },
  {
   "cell_type": "markdown",
   "id": "cd765934-5585-4d42-8960-bc0b36cc8525",
   "metadata": {},
   "source": [
    "Under the null hypothesis H_0, assume that $Pnew$ and $Pold$ are equal. Furthermore, assume that $Pnew$ and $Pold$ both are equal to the converted success rate in the df2 data, regardless of the page. So, our assumption is:\n",
    "\n",
    "\n",
    "$Pnew$ = $Pold$ = $P$population"
   ]
  },
  {
   "cell_type": "markdown",
   "id": "71a9ffd6-1078-4d04-a586-c1833e623776",
   "metadata": {},
   "source": [
    "#### Deliverable 1.2.2: The result of the hypothesis test with a p-value"
   ]
  },
  {
   "cell_type": "markdown",
   "id": "242ad9c6-fcf0-4f89-a5eb-31d5a36d4625",
   "metadata": {},
   "source": [
    "The conversion rate $Pnew$ under the null hypothesis"
   ]
  },
  {
   "cell_type": "code",
   "execution_count": 50,
   "id": "7c7fe15d-5487-401f-987d-fd81f9019359",
   "metadata": {},
   "outputs": [
    {
     "data": {
      "text/plain": [
       "np.float64(0.097)"
      ]
     },
     "execution_count": 50,
     "metadata": {},
     "output_type": "execute_result"
    }
   ],
   "source": [
    "p_new = round(df1.converted.mean(), 4)\n",
    "p_new"
   ]
  },
  {
   "cell_type": "code",
   "execution_count": 51,
   "id": "1826edf2-56f5-44a6-98e8-123883d4efe1",
   "metadata": {},
   "outputs": [
    {
     "data": {
      "text/plain": [
       "np.float64(0.097)"
      ]
     },
     "execution_count": 51,
     "metadata": {},
     "output_type": "execute_result"
    }
   ],
   "source": [
    "p_old = round(df1.converted.mean(), 4)\n",
    "p_old"
   ]
  },
  {
   "cell_type": "markdown",
   "id": "b46d7a98-da40-422b-b277-eeec4603355c",
   "metadata": {},
   "source": [
    "Number of individuals in the treatment group $n_{new}$"
   ]
  },
  {
   "cell_type": "code",
   "execution_count": 52,
   "id": "5e8d43ae-36e4-4239-a610-4bf7808c56d4",
   "metadata": {},
   "outputs": [
    {
     "data": {
      "text/plain": [
       "2481"
      ]
     },
     "execution_count": 52,
     "metadata": {},
     "output_type": "execute_result"
    }
   ],
   "source": [
    "n_new = df1[df1['group'] == 'B'].shape[0]\n",
    "n_new"
   ]
  },
  {
   "cell_type": "code",
   "execution_count": 53,
   "id": "3d67c2d8-a021-40bc-8a83-1e338847afb6",
   "metadata": {},
   "outputs": [
    {
     "data": {
      "text/plain": [
       "2519"
      ]
     },
     "execution_count": 53,
     "metadata": {},
     "output_type": "execute_result"
    }
   ],
   "source": [
    "n_old =df1[df1['group'] == 'A'].shape[0]\n",
    "n_old"
   ]
  },
  {
   "cell_type": "markdown",
   "id": "23ae2b82-e9d0-457c-bd3b-bbe5909f9610",
   "metadata": {},
   "source": [
    "Simulating sample for the treatment group(B)"
   ]
  },
  {
   "cell_type": "code",
   "execution_count": 54,
   "id": "12ae886c-6905-402c-acb7-5484c7bc5322",
   "metadata": {},
   "outputs": [],
   "source": [
    "# Simulating a Sample for the treatment Group\n",
    "new_page_converted = np.random.choice([0,1], size=n_new, p=[1-p_population, p_population])"
   ]
  },
  {
   "cell_type": "code",
   "execution_count": 55,
   "id": "c95952bd-7312-4e42-94a7-c91a65b7f8c4",
   "metadata": {},
   "outputs": [],
   "source": [
    "# Simulating a Sample for the control Group\n",
    "old_page_converted = np.random.choice([0,1], size=n_old, p=[1-p_population, p_population])"
   ]
  },
  {
   "cell_type": "markdown",
   "id": "a1bbf8e0-8397-438b-aae1-e6aff0b205dd",
   "metadata": {},
   "source": [
    "Finding the difference in the \"converted\" probability (p'new - p'old) for the simulated samples."
   ]
  },
  {
   "cell_type": "code",
   "execution_count": 56,
   "id": "6160e990-d440-4f8b-920b-a9a7d65694a3",
   "metadata": {},
   "outputs": [
    {
     "data": {
      "text/plain": [
       "np.float64(-0.005271184463614617)"
      ]
     },
     "execution_count": 56,
     "metadata": {},
     "output_type": "execute_result"
    }
   ],
   "source": [
    "new_page_converted.mean() - old_page_converted.mean()"
   ]
  },
  {
   "cell_type": "markdown",
   "id": "c1cd9d19-2d8e-47cd-a7d4-67c8d6dd5915",
   "metadata": {},
   "source": [
    "Re-creating new_page_converted and old_page_converted and finding the  (p′new-p′old) value 10,000 times using the same simulation process."
   ]
  },
  {
   "cell_type": "code",
   "execution_count": 57,
   "id": "c61cb681-3a22-440b-84cd-a2dc0c044ad2",
   "metadata": {},
   "outputs": [],
   "source": [
    "# Sampling distribution \n",
    "p_diffs = []\n",
    "new_converted = np.random.binomial(n_new,p_population, 10000)/n_new\n",
    "old_converted = np.random.binomial(n_old,p_population, 10000)/n_old\n",
    "p_diffs = new_converted- old_converted"
   ]
  },
  {
   "cell_type": "markdown",
   "id": "95a582bb-1618-4aed-ad4b-e8aba6716687",
   "metadata": {},
   "source": [
    "Plotting a histogram with a line where the actual difference observed is."
   ]
  },
  {
   "cell_type": "code",
   "execution_count": 69,
   "id": "807556a5-c5e1-49fc-90d2-be0c19714ad0",
   "metadata": {},
   "outputs": [
    {
     "data": {
      "image/png": "[encoded data removed]",
      "text/plain": [
       "<Figure size 640x480 with 1 Axes>"
      ]
     },
     "metadata": {},
     "output_type": "display_data"
    }
   ],
   "source": [
    "p_diffs = np.array(p_diffs)\n",
    "plt.hist(p_diffs)\n",
    "plt.axvline(obs_diff, color='red')\n",
    "plt.show();"
   ]
  },
  {
   "cell_type": "markdown",
   "id": "40543b08-c794-4a7d-904d-2069ad9dc952",
   "metadata": {},
   "source": [
    "The proportion of the p_diffs greater than the actual difference observed."
   ]
  },
  {
   "cell_type": "code",
   "execution_count": 59,
   "id": "6eea2ea8-4760-4c89-b6ae-0b7c3bdf9d0a",
   "metadata": {},
   "outputs": [
    {
     "data": {
      "text/plain": [
       "np.float64(0.0)"
      ]
     },
     "execution_count": 59,
     "metadata": {},
     "output_type": "execute_result"
    }
   ],
   "source": [
    "null_mean = 0\n",
    "(p_diffs > obs_diff).mean() "
   ]
  },
  {
   "cell_type": "markdown",
   "id": "cb59c8b1-3221-41b8-8f07-e72984eb6851",
   "metadata": {},
   "source": [
    "What we have calculated above is the p value. In this case, we have got a p-value of 0, the p-value represents the probability that an observation comes from the null hypothesis. If we want to get a type I error rate equal to or less than 0.05, then the p-value should be equal to or less than that.\n",
    "\n",
    "In this case, there is a 0% chance that the observation comes from the null hypothesis; this also means that we have enough evidence to reject the hypothesis. In other words, we have proved that the new page performes better than the old page."
   ]
  },
  {
   "cell_type": "markdown",
   "id": "aeb944b3-9c3f-4ff1-81e2-3dc22bcdde74",
   "metadata": {},
   "source": [
    "## Goal 2: Use an Alternative method to A/B test to compare results"
   ]
  },
  {
   "cell_type": "markdown",
   "id": "23bb408b-ff07-483a-a046-7c78a5ade8e9",
   "metadata": {},
   "source": [
    "### Objective 2.1: Conduct a statistical test using regression"
   ]
  },
  {
   "cell_type": "markdown",
   "id": "63519d64-6b09-4a40-904e-b684f527e76a",
   "metadata": {},
   "source": [
    "#### Deliverable 2.1.1: A logistic regression model that returns new and old page coefficient"
   ]
  },
  {
   "cell_type": "markdown",
   "id": "6ca71a37-6118-447a-8810-c154cabba07a",
   "metadata": {},
   "source": [
    "We will use logistic regression since the output that we want to get is categorical.\n",
    "In order to make the analysis we will use a dummy variables that will allow us to compare the dummy variable to the baseline."
   ]
  },
  {
   "cell_type": "code",
   "execution_count": 60,
   "id": "a8ff17c6-31c0-43d4-93c2-570ed1ed2884",
   "metadata": {},
   "outputs": [],
   "source": [
    "import statsmodels.api as sm"
   ]
  },
  {
   "cell_type": "markdown",
   "id": "487557b7-e197-4455-aaf9-bbe82619a6ce",
   "metadata": {},
   "source": [
    "Creating an intercept and a dummy variable column."
   ]
  },
  {
   "cell_type": "code",
   "execution_count": 61,
   "id": "8252e239-8a58-4a49-bae1-2eb9149e72a8",
   "metadata": {},
   "outputs": [],
   "source": [
    "df1['intercept'] = 1"
   ]
  },
  {
   "cell_type": "code",
   "execution_count": 62,
   "id": "e47bacf0-8619-4886-910f-7f87f8b7e058",
   "metadata": {},
   "outputs": [],
   "source": [
    "df1[['ab_page2', 'ab_page']] = pd.get_dummies(df1['group']).astype(int)"
   ]
  },
  {
   "cell_type": "code",
   "execution_count": 63,
   "id": "51688496-0a84-40e8-bb91-05bd8998c3d3",
   "metadata": {},
   "outputs": [
    {
     "data": {
      "text/html": [
       "<div>\n",
       "<style scoped>\n",
       "    .dataframe tbody tr th:only-of-type {\n",
       "        vertical-align: middle;\n",
       "    }\n",
       "\n",
       "    .dataframe tbody tr th {\n",
       "        vertical-align: top;\n",
       "    }\n",
       "\n",
       "    .dataframe thead th {\n",
       "        text-align: right;\n",
       "    }\n",
       "</style>\n",
       "<table border=\"1\" class=\"dataframe\">\n",
       "  <thead>\n",
       "    <tr style=\"text-align: right;\">\n",
       "      <th></th>\n",
       "      <th>userid</th>\n",
       "      <th>group</th>\n",
       "      <th>page_views</th>\n",
       "      <th>timespent</th>\n",
       "      <th>converted</th>\n",
       "      <th>device</th>\n",
       "      <th>location</th>\n",
       "      <th>intercept</th>\n",
       "      <th>ab_page2</th>\n",
       "      <th>ab_page</th>\n",
       "    </tr>\n",
       "  </thead>\n",
       "  <tbody>\n",
       "    <tr>\n",
       "      <th>0</th>\n",
       "      <td>14292</td>\n",
       "      <td>B</td>\n",
       "      <td>3</td>\n",
       "      <td>424</td>\n",
       "      <td>0</td>\n",
       "      <td>Mobile</td>\n",
       "      <td>Northern Ireland</td>\n",
       "      <td>1</td>\n",
       "      <td>0</td>\n",
       "      <td>1</td>\n",
       "    </tr>\n",
       "    <tr>\n",
       "      <th>1</th>\n",
       "      <td>11682</td>\n",
       "      <td>A</td>\n",
       "      <td>9</td>\n",
       "      <td>342</td>\n",
       "      <td>0</td>\n",
       "      <td>Mobile</td>\n",
       "      <td>Scotland</td>\n",
       "      <td>1</td>\n",
       "      <td>1</td>\n",
       "      <td>0</td>\n",
       "    </tr>\n",
       "    <tr>\n",
       "      <th>2</th>\n",
       "      <td>19825</td>\n",
       "      <td>A</td>\n",
       "      <td>2</td>\n",
       "      <td>396</td>\n",
       "      <td>0</td>\n",
       "      <td>Desktop</td>\n",
       "      <td>Northern Ireland</td>\n",
       "      <td>1</td>\n",
       "      <td>1</td>\n",
       "      <td>0</td>\n",
       "    </tr>\n",
       "    <tr>\n",
       "      <th>3</th>\n",
       "      <td>16080</td>\n",
       "      <td>B</td>\n",
       "      <td>4</td>\n",
       "      <td>318</td>\n",
       "      <td>0</td>\n",
       "      <td>Desktop</td>\n",
       "      <td>Wales</td>\n",
       "      <td>1</td>\n",
       "      <td>0</td>\n",
       "      <td>1</td>\n",
       "    </tr>\n",
       "    <tr>\n",
       "      <th>4</th>\n",
       "      <td>18851</td>\n",
       "      <td>A</td>\n",
       "      <td>1</td>\n",
       "      <td>338</td>\n",
       "      <td>1</td>\n",
       "      <td>Desktop</td>\n",
       "      <td>Scotland</td>\n",
       "      <td>1</td>\n",
       "      <td>1</td>\n",
       "      <td>0</td>\n",
       "    </tr>\n",
       "  </tbody>\n",
       "</table>\n",
       "</div>"
      ],
      "text/plain": [
       "   userid group  page_views  timespent  converted   device          location  \\\n",
       "0   14292     B           3        424          0   Mobile  Northern Ireland   \n",
       "1   11682     A           9        342          0   Mobile          Scotland   \n",
       "2   19825     A           2        396          0  Desktop  Northern Ireland   \n",
       "3   16080     B           4        318          0  Desktop             Wales   \n",
       "4   18851     A           1        338          1  Desktop          Scotland   \n",
       "\n",
       "   intercept  ab_page2  ab_page  \n",
       "0          1         0        1  \n",
       "1          1         1        0  \n",
       "2          1         1        0  \n",
       "3          1         0        1  \n",
       "4          1         1        0  "
      ]
     },
     "execution_count": 63,
     "metadata": {},
     "output_type": "execute_result"
    }
   ],
   "source": [
    "df1.head()"
   ]
  },
  {
   "cell_type": "markdown",
   "id": "a04168e1-b49d-45b4-8a49-597db7520cde",
   "metadata": {},
   "source": [
    " Using statsmodels to instantiate the regression model on the two columns above, then fitting the model to predict whether or not an individual converts."
   ]
  },
  {
   "cell_type": "code",
   "execution_count": 64,
   "id": "27988f22-c22e-4b7e-a7db-dcff7f8b9b24",
   "metadata": {},
   "outputs": [
    {
     "name": "stdout",
     "output_type": "stream",
     "text": [
      "Optimization terminated successfully.\n",
      "         Current function value: 0.307393\n",
      "         Iterations 7\n"
     ]
    }
   ],
   "source": [
    "logit_m = sm.Logit(df1['converted'], df1[['intercept', 'ab_page']])\n",
    "result = logit_m.fit()"
   ]
  },
  {
   "cell_type": "code",
   "execution_count": 75,
   "id": "fc6c7b1a-43d4-4f55-88ca-b73aa9df036b",
   "metadata": {},
   "outputs": [
    {
     "data": {
      "image/png": "[encoded data removed]",
      "text/plain": [
       "<Figure size 1000x600 with 1 Axes>"
      ]
     },
     "metadata": {},
     "output_type": "display_data"
    }
   ],
   "source": [
    "ab_page_range = np.linspace(df1['ab_page'].min(), df1['ab_page'].max(), 500)\n",
    "X_plot = sm.add_constant(ab_page_range) # Add intercept to the plotting data\n",
    "\n",
    "# Predict the probabilities using the fitted model\n",
    "predicted_probabilities = result.predict(X_plot)\n",
    "\n",
    "# 2. Plot the original data points\n",
    "plt.figure(figsize=(10, 6))\n",
    "plt.scatter(df1['ab_page'], df1['converted'], alpha=0.2, label='Actual Data (0: Not Converted, 1: Converted)')\n",
    "\n",
    "# 3. Plot the fitted logistic regression curve\n",
    "plt.plot(ab_page_range, predicted_probabilities, color='red', linewidth=2, label='Fitted Logistic Regression Curve')\n",
    "\n",
    "# Add labels and title\n",
    "plt.xlabel('ab_page')\n",
    "plt.ylabel('Probability of Conversion')\n",
    "plt.title('Logistic Regression Model: Conversion Probability vs. ab_page')\n",
    "plt.grid(True, linestyle='--', alpha=0.7)\n",
    "plt.legend()\n",
    "plt.show()"
   ]
  },
  {
   "cell_type": "markdown",
   "id": "a2ededa0-083c-486a-ae13-1534b6135ad7",
   "metadata": {},
   "source": [
    "Providing summary of the model below"
   ]
  },
  {
   "cell_type": "code",
   "execution_count": 65,
   "id": "c4b3e4b7-9962-4be9-9808-80cab7cdd750",
   "metadata": {
    "scrolled": true
   },
   "outputs": [
    {
     "data": {
      "text/html": [
       "<table class=\"simpletable\">\n",
       "<tr>\n",
       "        <td>Model:</td>              <td>Logit</td>           <td>Method:</td>          <td>MLE</td>   \n",
       "</tr>\n",
       "<tr>\n",
       "  <td>Dependent Variable:</td>     <td>converted</td>    <td>Pseudo R-squared:</td>    <td>0.035</td>  \n",
       "</tr>\n",
       "<tr>\n",
       "         <td>Date:</td>        <td>2025-06-01 10:52</td>       <td>AIC:</td>         <td>3077.9257</td>\n",
       "</tr>\n",
       "<tr>\n",
       "   <td>No. Observations:</td>        <td>5000</td>             <td>BIC:</td>         <td>3090.9601</td>\n",
       "</tr>\n",
       "<tr>\n",
       "       <td>Df Model:</td>              <td>1</td>         <td>Log-Likelihood:</td>    <td>-1537.0</td> \n",
       "</tr>\n",
       "<tr>\n",
       "     <td>Df Residuals:</td>          <td>4998</td>           <td>LL-Null:</td>        <td>-1592.2</td> \n",
       "</tr>\n",
       "<tr>\n",
       "      <td>Converged:</td>           <td>1.0000</td>        <td>LLR p-value:</td>    <td>7.6810e-26</td>\n",
       "</tr>\n",
       "<tr>\n",
       "    <td>No. Iterations:</td>        <td>7.0000</td>           <td>Scale:</td>         <td>1.0000</td>  \n",
       "</tr>\n",
       "</table>\n",
       "<table class=\"simpletable\">\n",
       "<tr>\n",
       "      <td></td>       <th>Coef.</th>  <th>Std.Err.</th>     <th>z</th>     <th>P>|z|</th> <th>[0.025</th>  <th>0.975]</th> \n",
       "</tr>\n",
       "<tr>\n",
       "  <th>intercept</th> <td>-2.8635</td>  <td>0.0882</td>  <td>-32.4794</td> <td>0.0000</td> <td>-3.0363</td> <td>-2.6907</td>\n",
       "</tr>\n",
       "<tr>\n",
       "  <th>ab_page</th>   <td>1.0537</td>   <td>0.1054</td>   <td>9.9983</td>  <td>0.0000</td> <td>0.8472</td>  <td>1.2603</td> \n",
       "</tr>\n",
       "</table><br/>\n"
      ],
      "text/latex": [
       "\\begin{table}\n",
       "\\caption{Results: Logit}\n",
       "\\label{}\n",
       "\\begin{center}\n",
       "\\begin{tabular}{llll}\n",
       "\\hline\n",
       "Model:              & Logit            & Method:           & MLE         \\\\\n",
       "Dependent Variable: & converted        & Pseudo R-squared: & 0.035       \\\\\n",
       "Date:               & 2025-06-01 10:52 & AIC:              & 3077.9257   \\\\\n",
       "No. Observations:   & 5000             & BIC:              & 3090.9601   \\\\\n",
       "Df Model:           & 1                & Log-Likelihood:   & -1537.0     \\\\\n",
       "Df Residuals:       & 4998             & LL-Null:          & -1592.2     \\\\\n",
       "Converged:          & 1.0000           & LLR p-value:      & 7.6810e-26  \\\\\n",
       "No. Iterations:     & 7.0000           & Scale:            & 1.0000      \\\\\n",
       "\\hline\n",
       "\\end{tabular}\n",
       "\\end{center}\n",
       "\n",
       "\\begin{center}\n",
       "\\begin{tabular}{lrrrrrr}\n",
       "\\hline\n",
       "          &   Coef. & Std.Err. &        z & P$> |$z$|$ &  [0.025 &  0.975]  \\\\\n",
       "\\hline\n",
       "intercept & -2.8635 &   0.0882 & -32.4794 &      0.0000 & -3.0363 & -2.6907  \\\\\n",
       "ab\\_page  &  1.0537 &   0.1054 &   9.9983 &      0.0000 &  0.8472 &  1.2603  \\\\\n",
       "\\hline\n",
       "\\end{tabular}\n",
       "\\end{center}\n",
       "\\end{table}\n",
       "\\bigskip\n"
      ],
      "text/plain": [
       "<class 'statsmodels.iolib.summary2.Summary'>\n",
       "\"\"\"\n",
       "                         Results: Logit\n",
       "=================================================================\n",
       "Model:              Logit            Method:           MLE       \n",
       "Dependent Variable: converted        Pseudo R-squared: 0.035     \n",
       "Date:               2025-06-01 10:52 AIC:              3077.9257 \n",
       "No. Observations:   5000             BIC:              3090.9601 \n",
       "Df Model:           1                Log-Likelihood:   -1537.0   \n",
       "Df Residuals:       4998             LL-Null:          -1592.2   \n",
       "Converged:          1.0000           LLR p-value:      7.6810e-26\n",
       "No. Iterations:     7.0000           Scale:            1.0000    \n",
       "------------------------------------------------------------------\n",
       "              Coef.   Std.Err.     z      P>|z|    [0.025   0.975]\n",
       "------------------------------------------------------------------\n",
       "intercept    -2.8635    0.0882  -32.4794  0.0000  -3.0363  -2.6907\n",
       "ab_page       1.0537    0.1054    9.9983  0.0000   0.8472   1.2603\n",
       "=================================================================\n",
       "\n",
       "\"\"\""
      ]
     },
     "execution_count": 65,
     "metadata": {},
     "output_type": "execute_result"
    }
   ],
   "source": [
    "result.summary2()"
   ]
  },
  {
   "cell_type": "code",
   "execution_count": 66,
   "id": "8238f0bc-4f9e-4f0f-bb1c-65e23146e3ce",
   "metadata": {
    "scrolled": true
   },
   "outputs": [
    {
     "data": {
      "text/plain": [
       "np.float64(2.868244011969)"
      ]
     },
     "execution_count": 66,
     "metadata": {},
     "output_type": "execute_result"
    }
   ],
   "source": [
    "#computing the exponential and reciprocal to obtain the multiplicative change for ab_page\n",
    "np.exp(1.0537)"
   ]
  },
  {
   "cell_type": "markdown",
   "id": "beb61a24-aefa-411f-8583-8dd166ccd49f",
   "metadata": {},
   "source": [
    "When using the logistic regression model, we get a coefficient for ab_page with a value of 1.0537, which is a comparison to the baseline, which is -2.8635.\n",
    "\n",
    "In order to make it easier to understand the results, we exponentiate the coefficient for ab_page, which gives a result of 2.8682. This means that when shown the new page, an individual is 2.86 times more likely to convert than when shown the old page.\n",
    "\n",
    "The null hypothesis associated with the regression model is that there is no difference in the likelihood of conversion for the new page and the old page. The alternative hypothesis would be that there is a difference in the likelihood of conversion for the old and new pages.\n",
    "\n",
    "However, from the results we described before, we can conclude that we reject the null hypothesis since we have a p-value of zero."
   ]
  }
 ],
 "metadata": {
  "kernelspec": {
   "display_name": "Python 3 (ipykernel)",
   "language": "python",
   "name": "python3"
  },
  "language_info": {
   "codemirror_mode": {
    "name": "ipython",
    "version": 3
   },
   "file_extension": ".py",
   "mimetype": "text/x-python",
   "name": "python",
   "nbconvert_exporter": "python",
   "pygments_lexer": "ipython3",
   "version": "3.13.2"
  }
 },
 "nbformat": 4,
 "nbformat_minor": 5
}
